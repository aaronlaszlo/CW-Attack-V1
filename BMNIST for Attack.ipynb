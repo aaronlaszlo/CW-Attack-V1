{
 "cells": [
  {
   "cell_type": "code",
   "execution_count": 1,
   "id": "34fd3986",
   "metadata": {},
   "outputs": [],
   "source": [
    "'''Trains a simple binarize fully connected NN on the MNIST dataset.\n",
    "Modified from keras' examples/mnist_mlp.py\n",
    "Gets to 97.9% test accuracy after 20 epochs using theano backend\n",
    "'''\n",
    "\n",
    "\n",
    "from __future__ import print_function\n",
    "import numpy as np\n",
    "np.random.seed(1337)  # for repeatability"
   ]
  },
  {
   "cell_type": "code",
   "execution_count": null,
   "id": "cc92f55f",
   "metadata": {},
   "outputs": [],
   "source": []
  },
  {
   "cell_type": "code",
   "execution_count": 2,
   "id": "c173e5a3",
   "metadata": {},
   "outputs": [
    {
     "name": "stderr",
     "output_type": "stream",
     "text": [
      "2023-02-06 10:44:00.120389: I tensorflow/core/platform/cpu_feature_guard.cc:193] This TensorFlow binary is optimized with oneAPI Deep Neural Network Library (oneDNN) to use the following CPU instructions in performance-critical operations:  AVX2 AVX_VNNI FMA\n",
      "To enable them in other operations, rebuild TensorFlow with the appropriate compiler flags.\n",
      "2023-02-06 10:44:00.193589: I tensorflow/core/util/port.cc:104] oneDNN custom operations are on. You may see slightly different numerical results due to floating-point round-off errors from different computation orders. To turn them off, set the environment variable `TF_ENABLE_ONEDNN_OPTS=0`.\n",
      "2023-02-06 10:44:00.195419: W tensorflow/compiler/xla/stream_executor/platform/default/dso_loader.cc:64] Could not load dynamic library 'libcudart.so.11.0'; dlerror: libcudart.so.11.0: cannot open shared object file: No such file or directory\n",
      "2023-02-06 10:44:00.195426: I tensorflow/compiler/xla/stream_executor/cuda/cudart_stub.cc:29] Ignore above cudart dlerror if you do not have a GPU set up on your machine.\n",
      "2023-02-06 10:44:00.463173: W tensorflow/compiler/xla/stream_executor/platform/default/dso_loader.cc:64] Could not load dynamic library 'libnvinfer.so.7'; dlerror: libnvinfer.so.7: cannot open shared object file: No such file or directory\n",
      "2023-02-06 10:44:00.463197: W tensorflow/compiler/xla/stream_executor/platform/default/dso_loader.cc:64] Could not load dynamic library 'libnvinfer_plugin.so.7'; dlerror: libnvinfer_plugin.so.7: cannot open shared object file: No such file or directory\n",
      "2023-02-06 10:44:00.463200: W tensorflow/compiler/tf2tensorrt/utils/py_utils.cc:38] TF-TRT Warning: Cannot dlopen some TensorRT libraries. If you would like to use Nvidia GPU with TensorRT, please make sure the missing libraries mentioned above are installed properly.\n",
      "/home/aaronlaszlo/miniconda3/envs/robust/lib/python3.10/site-packages/tqdm/auto.py:22: TqdmWarning: IProgress not found. Please update jupyter and ipywidgets. See https://ipywidgets.readthedocs.io/en/stable/user_install.html\n",
      "  from .autonotebook import tqdm as notebook_tqdm\n",
      "/home/aaronlaszlo/miniconda3/envs/robust/lib/python3.10/site-packages/art/estimators/certification/__init__.py:14: UserWarning: PyTorch not found. Not importing DeepZ or Interval Bound Propagation functionality\n",
      "  warnings.warn(\"PyTorch not found. Not importing DeepZ or Interval Bound Propagation functionality\")\n"
     ]
    }
   ],
   "source": [
    "import tensorflow as tf\n",
    "\n",
    "import numpy as np\n",
    "import os\n",
    "import sys\n",
    "import classifier\n",
    "from classifier import KerasClassifier\n",
    "import pickle as picklerick\n",
    "import gzip\n",
    "import urllib.request\n",
    "import tensorflow.keras.backend as K\n",
    "from tensorflow.keras.losses import squared_hinge\n",
    "from tensorflow.keras import layers\n",
    "from keras.datasets import mnist\n",
    "from keras.models import Sequential\n",
    "from keras.layers import Dense, Dropout, Activation, BatchNormalization\n",
    "from keras.optimizers import SGD, Adam, RMSprop\n",
    "from keras.callbacks import LearningRateScheduler\n",
    "from keras.utils import np_utils\n",
    " \n",
    "from keras.losses import losses_utils\n",
    "from keras.losses import SquaredHinge\n",
    "from binary_ops import binary_tanh as binary_tanh_op\n",
    "from binary_layers import BinaryDense, Clip\n",
    "\n",
    "\n",
    "\n",
    "from keras.models import load_model\n",
    "\n"
   ]
  },
  {
   "cell_type": "code",
   "execution_count": 3,
   "id": "099ece10",
   "metadata": {},
   "outputs": [],
   "source": [
    "from art.attacks.evasion import CarliniLInfMethod\n",
    "\n",
    "from art.utils import load_mnist"
   ]
  },
  {
   "cell_type": "code",
   "execution_count": null,
   "id": "0beaad79",
   "metadata": {},
   "outputs": [],
   "source": []
  },
  {
   "cell_type": "code",
   "execution_count": 4,
   "id": "4f6eb89c",
   "metadata": {},
   "outputs": [],
   "source": [
    "class DropoutNoScale(Dropout):\n",
    "    '''Keras Dropout does scale the input in training phase, which is undesirable here.\n",
    "    '''\n",
    "    def call(self, inputs, training=None):\n",
    "        if 0. < self.rate < 1.:\n",
    "            noise_shape = self._get_noise_shape(inputs)\n",
    "\n",
    "            def dropped_inputs():\n",
    "                return K.dropout(inputs, self.rate, noise_shape,\n",
    "                                 seed=self.seed) * (1 - self.rate)\n",
    "            return K.in_train_phase(dropped_inputs, inputs,\n",
    "                                    training=training)\n",
    "        return inputs"
   ]
  },
  {
   "cell_type": "code",
   "execution_count": 5,
   "id": "686fdc8c",
   "metadata": {},
   "outputs": [],
   "source": [
    "def binary_tanh(x):\n",
    "    return binary_tanh_op(x)"
   ]
  },
  {
   "cell_type": "code",
   "execution_count": 6,
   "id": "ecc87e45",
   "metadata": {},
   "outputs": [],
   "source": [
    "batch_size = 100\n",
    "epochs = 2 # adjust for accuracy (max accuracy = ~97%)\n",
    "nb_classes = 10\n",
    "\n",
    "H = 'Glorot'\n",
    "kernel_lr_multiplier = 'Glorot'"
   ]
  },
  {
   "cell_type": "code",
   "execution_count": 7,
   "id": "6862e604",
   "metadata": {},
   "outputs": [],
   "source": [
    "# network\n",
    "\n",
    "num_unit = 2048\n",
    "num_hidden = 3\n",
    "use_bias = False"
   ]
  },
  {
   "cell_type": "code",
   "execution_count": 8,
   "id": "27294ac0",
   "metadata": {},
   "outputs": [],
   "source": [
    "#learning rate schedule\n",
    "\n",
    "lr_start = 1e-3\n",
    "lr_end = 1e-6\n",
    "lr_decay = (lr_end / lr_start)**(1. / epochs)"
   ]
  },
  {
   "cell_type": "code",
   "execution_count": 9,
   "id": "46d189e3",
   "metadata": {},
   "outputs": [],
   "source": [
    "#BN\n",
    "epsilon = 1e-6\n",
    "momentum = 0.9"
   ]
  },
  {
   "cell_type": "code",
   "execution_count": 10,
   "id": "f563c6cc",
   "metadata": {},
   "outputs": [],
   "source": [
    "#dropout\n",
    "drop_in =0.2\n",
    "drop_hidden = 0.5"
   ]
  },
  {
   "cell_type": "code",
   "execution_count": 11,
   "id": "7e94af8e",
   "metadata": {},
   "outputs": [
    {
     "name": "stdout",
     "output_type": "stream",
     "text": [
      "60000 train samples\n",
      "10000 test samples\n"
     ]
    }
   ],
   "source": [
    "# the data, shuffled and split between train and test sets\n",
    "(X_train, y_train), (X_test, y_test) = mnist.load_data()\n",
    "X_train = X_train.reshape(60000, 784)\n",
    "X_test = X_test.reshape(10000, 784)\n",
    "X_train = X_train.astype('float32')\n",
    "X_test = X_test.astype('float32')\n",
    "X_train /= 255\n",
    "X_test /= 255\n",
    "print(X_train.shape[0], 'train samples')\n",
    "print(X_test.shape[0], 'test samples')"
   ]
  },
  {
   "cell_type": "code",
   "execution_count": 12,
   "id": "44b66178",
   "metadata": {},
   "outputs": [
    {
     "name": "stdout",
     "output_type": "stream",
     "text": [
      "60000 train samples\n",
      "10000 test samples\n"
     ]
    }
   ],
   "source": [
    "# convert class vectors to binary class matrices\n",
    "Y_train = np_utils.to_categorical(y_train, nb_classes) * 2 - 1 # -1 or 1 for hinge loss\n",
    "Y_test = np_utils.to_categorical(y_test, nb_classes) * 2 - 1\n",
    "\n",
    "print(Y_train.shape[0], 'train samples')\n",
    "print(Y_test.shape[0], 'test samples')"
   ]
  },
  {
   "cell_type": "code",
   "execution_count": 13,
   "id": "9a8f4a4e",
   "metadata": {},
   "outputs": [
    {
     "name": "stdout",
     "output_type": "stream",
     "text": [
      "WARNING:tensorflow:From /home/aaronlaszlo/miniconda3/envs/robust/lib/python3.10/site-packages/tensorflow/python/autograph/pyct/static_analysis/liveness.py:83: Analyzer.lamba_check (from tensorflow.python.autograph.pyct.static_analysis.liveness) is deprecated and will be removed after 2023-09-23.\n",
      "Instructions for updating:\n",
      "Lambda fuctions will be no more assumed to be used in the statement where they are used, or at least in the same block. https://github.com/tensorflow/tensorflow/issues/56089\n"
     ]
    },
    {
     "name": "stderr",
     "output_type": "stream",
     "text": [
      "2023-02-06 10:44:01.172695: I tensorflow/compiler/xla/stream_executor/cuda/cuda_gpu_executor.cc:981] successful NUMA node read from SysFS had negative value (-1), but there must be at least one NUMA node, so returning NUMA node zero\n",
      "2023-02-06 10:44:01.172793: W tensorflow/compiler/xla/stream_executor/platform/default/dso_loader.cc:64] Could not load dynamic library 'libcudart.so.11.0'; dlerror: libcudart.so.11.0: cannot open shared object file: No such file or directory\n",
      "2023-02-06 10:44:01.172813: W tensorflow/compiler/xla/stream_executor/platform/default/dso_loader.cc:64] Could not load dynamic library 'libcublas.so.11'; dlerror: libcublas.so.11: cannot open shared object file: No such file or directory\n",
      "2023-02-06 10:44:01.172828: W tensorflow/compiler/xla/stream_executor/platform/default/dso_loader.cc:64] Could not load dynamic library 'libcublasLt.so.11'; dlerror: libcublasLt.so.11: cannot open shared object file: No such file or directory\n",
      "2023-02-06 10:44:01.184667: W tensorflow/compiler/xla/stream_executor/platform/default/dso_loader.cc:64] Could not load dynamic library 'libcusparse.so.11'; dlerror: libcusparse.so.11: cannot open shared object file: No such file or directory\n",
      "2023-02-06 10:44:01.184743: W tensorflow/core/common_runtime/gpu/gpu_device.cc:1934] Cannot dlopen some GPU libraries. Please make sure the missing libraries mentioned above are installed properly if you would like to use GPU. Follow the guide at https://www.tensorflow.org/install/gpu for how to download and setup the required libraries for your platform.\n",
      "Skipping registering GPU devices...\n",
      "2023-02-06 10:44:01.185109: I tensorflow/core/platform/cpu_feature_guard.cc:193] This TensorFlow binary is optimized with oneAPI Deep Neural Network Library (oneDNN) to use the following CPU instructions in performance-critical operations:  AVX2 AVX_VNNI FMA\n",
      "To enable them in other operations, rebuild TensorFlow with the appropriate compiler flags.\n"
     ]
    },
    {
     "name": "stdout",
     "output_type": "stream",
     "text": [
      "Model: \"sequential\"\n",
      "_________________________________________________________________\n",
      " Layer (type)                Output Shape              Param #   \n",
      "=================================================================\n",
      " drop0 (DropoutNoScale)      (None, 784)               0         \n",
      "                                                                 \n",
      " dense1 (BinaryDense)        (None, 2048)              1605632   \n",
      "                                                                 \n",
      " bn1 (BatchNormalization)    (None, 2048)              8192      \n",
      "                                                                 \n",
      " act1 (Activation)           (None, 2048)              0         \n",
      "                                                                 \n",
      " drop1 (DropoutNoScale)      (None, 2048)              0         \n",
      "                                                                 \n",
      " dense2 (BinaryDense)        (None, 2048)              4194304   \n",
      "                                                                 \n",
      " bn2 (BatchNormalization)    (None, 2048)              8192      \n",
      "                                                                 \n",
      " act2 (Activation)           (None, 2048)              0         \n",
      "                                                                 \n",
      " drop2 (DropoutNoScale)      (None, 2048)              0         \n",
      "                                                                 \n",
      " dense3 (BinaryDense)        (None, 2048)              4194304   \n",
      "                                                                 \n",
      " bn3 (BatchNormalization)    (None, 2048)              8192      \n",
      "                                                                 \n",
      " act3 (Activation)           (None, 2048)              0         \n",
      "                                                                 \n",
      " drop3 (DropoutNoScale)      (None, 2048)              0         \n",
      "                                                                 \n",
      " dense (BinaryDense)         (None, 10)                20480     \n",
      "                                                                 \n",
      " bn (BatchNormalization)     (None, 10)                40        \n",
      "                                                                 \n",
      "=================================================================\n",
      "Total params: 10,039,336\n",
      "Trainable params: 10,027,028\n",
      "Non-trainable params: 12,308\n",
      "_________________________________________________________________\n"
     ]
    },
    {
     "name": "stderr",
     "output_type": "stream",
     "text": [
      "/home/aaronlaszlo/miniconda3/envs/robust/lib/python3.10/site-packages/keras/optimizers/optimizer_v2/adam.py:117: UserWarning: The `lr` argument is deprecated, use `learning_rate` instead.\n",
      "  super().__init__(name, **kwargs)\n"
     ]
    }
   ],
   "source": [
    "model = Sequential()\n",
    "model.add(DropoutNoScale(drop_in, input_shape=(784,), name='drop0'))\n",
    "for i in range(num_hidden):\n",
    "    \n",
    "    model.add(BinaryDense(num_unit, H=H, kernel_lr_multiplier=kernel_lr_multiplier, use_bias=use_bias,\n",
    "              name='dense{}'.format(i+1)))\n",
    "    \n",
    "    model.add(BatchNormalization(epsilon=epsilon, momentum=momentum, name='bn{}'.format(i+1)))\n",
    "    \n",
    "    model.add(Activation(binary_tanh, name='act{}'.format(i+1)))\n",
    "    \n",
    "    model.add(DropoutNoScale(drop_hidden, name='drop{}'.format(i+1)))\n",
    "\n",
    "model.add(BinaryDense(10, H=H, kernel_lr_multiplier=kernel_lr_multiplier, use_bias=use_bias,\n",
    "          name='dense'))\n",
    "\n",
    "model.add(BatchNormalization(epsilon=epsilon, momentum=momentum, name='bn'))\n",
    "\n",
    "\n",
    "model.summary()\n",
    "\n",
    "\n",
    "opt = Adam(lr=lr_start) \n",
    "\n",
    "model.compile(loss = tf.keras.losses.squared_hinge, optimizer=opt, metrics=['acc'])\n",
    "\n",
    "#model.compile(loss = 'squared_hinge', optimizer=opt, metrics=['acc'])\n"
   ]
  },
  {
   "cell_type": "code",
   "execution_count": 14,
   "id": "02c0a036",
   "metadata": {},
   "outputs": [
    {
     "name": "stdout",
     "output_type": "stream",
     "text": [
      "Epoch 1/2\n",
      "600/600 [==============================] - 27s 45ms/step - loss: 0.3965 - acc: 0.8779 - val_loss: 0.1344 - val_acc: 0.9412 - lr: 0.0010\n",
      "Epoch 2/2\n",
      "600/600 [==============================] - 27s 44ms/step - loss: 0.1407 - acc: 0.9189 - val_loss: 0.1129 - val_acc: 0.9459 - lr: 3.1623e-05\n",
      "Test score: 0.11293046921491623\n",
      "Test accuracy: 0.945900022983551\n"
     ]
    }
   ],
   "source": [
    "lr_scheduler = LearningRateScheduler(lambda e: lr_start * lr_decay ** e)\n",
    "history = model.fit(X_train, Y_train,\n",
    "                    batch_size=batch_size, epochs=epochs,\n",
    "                    verbose=1, validation_data=(X_test, Y_test),\n",
    "                    callbacks=[lr_scheduler])\n",
    "score = model.evaluate(X_test, Y_test, verbose=0)\n",
    "print('Test score:', score[0])\n",
    "print('Test accuracy:', score[1])"
   ]
  },
  {
   "cell_type": "code",
   "execution_count": null,
   "id": "5df96baa",
   "metadata": {},
   "outputs": [],
   "source": []
  },
  {
   "cell_type": "code",
   "execution_count": null,
   "id": "1195dd79",
   "metadata": {},
   "outputs": [],
   "source": []
  },
  {
   "cell_type": "code",
   "execution_count": null,
   "id": "ce292cd6",
   "metadata": {},
   "outputs": [],
   "source": []
  },
  {
   "cell_type": "code",
   "execution_count": null,
   "id": "14357b13",
   "metadata": {},
   "outputs": [],
   "source": []
  },
  {
   "cell_type": "code",
   "execution_count": null,
   "id": "7bef0f12",
   "metadata": {},
   "outputs": [],
   "source": []
  },
  {
   "cell_type": "code",
   "execution_count": null,
   "id": "a44476a4",
   "metadata": {},
   "outputs": [],
   "source": []
  },
  {
   "cell_type": "code",
   "execution_count": 15,
   "id": "c7a23431",
   "metadata": {},
   "outputs": [
    {
     "name": "stdout",
     "output_type": "stream",
     "text": [
      "Keras weights file (<HDF5 file \"variables.h5\" (mode r+)>) saving:\n",
      "...layers\n",
      "......activation\n",
      ".........vars\n",
      "......activation_1\n",
      ".........vars\n",
      "......activation_2\n",
      ".........vars\n",
      "......batch_normalization\n",
      ".........vars\n",
      "............0\n",
      "............1\n",
      "............2\n",
      "............3\n",
      "......batch_normalization_1\n",
      ".........vars\n",
      "............0\n",
      "............1\n",
      "............2\n",
      "............3\n",
      "......batch_normalization_2\n",
      ".........vars\n",
      "............0\n",
      "............1\n",
      "............2\n",
      "............3\n",
      "......batch_normalization_3\n",
      ".........vars\n",
      "............0\n",
      "............1\n",
      "............2\n",
      "............3\n",
      "......binary_dense\n",
      ".........vars\n",
      "............0\n",
      "......binary_dense_1\n",
      ".........vars\n",
      "............0\n",
      "......binary_dense_2\n",
      ".........vars\n",
      "............0\n",
      "......binary_dense_3\n",
      ".........vars\n",
      "............0\n",
      "......dropout_no_scale\n",
      ".........vars\n",
      "......dropout_no_scale_1\n",
      ".........vars\n",
      "......dropout_no_scale_2\n",
      ".........vars\n",
      "......dropout_no_scale_3\n",
      ".........vars\n",
      "...metrics\n",
      "......mean\n",
      ".........vars\n",
      "............0\n",
      "............1\n",
      "......mean_metric_wrapper\n",
      ".........vars\n",
      "............0\n",
      "............1\n",
      "...vars\n",
      "Keras model archive saving:\n",
      "File Name                                             Modified             Size\n",
      "config.json                                    2023-02-06 10:44:59         6826\n",
      "variables.h5                                   2023-02-06 10:44:59     40203392\n",
      "metadata.json                                  2023-02-06 10:44:59           64\n"
     ]
    }
   ],
   "source": [
    "picklerick.dump(model, open('model.pkl', 'wb'))"
   ]
  },
  {
   "cell_type": "code",
   "execution_count": 16,
   "id": "00746acb",
   "metadata": {},
   "outputs": [
    {
     "name": "stdout",
     "output_type": "stream",
     "text": [
      "Layer: \n",
      "{'name': 'drop0', 'trainable': True, 'dtype': 'float32', 'batch_input_shape': (None, 784), 'rate': 0.2, 'noise_shape': None, 'seed': None}\n",
      "1\n",
      "[[-6.8975538e-03 -6.3410792e-03  2.1085287e-02 ...  2.0794557e-02\n",
      "   1.2606410e-02  4.4544879e-03]\n",
      " [ 1.1027535e-02  1.3243550e-02 -1.4922472e-02 ... -1.4710017e-03\n",
      "  -1.9780850e-02  2.6061740e-03]\n",
      " [-5.4968521e-03 -1.3674755e-02 -4.3027103e-06 ... -5.2581485e-03\n",
      "   1.4351627e-02  1.9307142e-02]\n",
      " ...\n",
      " [-1.6804162e-02 -1.1528949e-02  6.6673197e-04 ... -1.1268199e-02\n",
      "   1.8686896e-02 -1.0574647e-02]\n",
      " [ 1.7852409e-02 -1.5845915e-02  2.0837104e-02 ... -1.3290688e-02\n",
      "  -4.0026996e-03  5.0387494e-03]\n",
      " [ 2.0643109e-02  1.9593274e-02 -6.6646934e-03 ...  8.1234481e-03\n",
      "   1.5896363e-02 -7.8744246e-03]]\n",
      "\n",
      "\n",
      "Layer: \n",
      "{'name': 'dense1', 'trainable': True, 'dtype': 'float32', 'units': 2048, 'activation': 'linear', 'use_bias': False, 'kernel_initializer': {'class_name': 'RandomUniform', 'config': {'minval': -0.023014365, 'maxval': 0.023014365, 'seed': None}}, 'bias_initializer': {'class_name': 'Zeros', 'config': {}}, 'kernel_regularizer': None, 'bias_regularizer': None, 'activity_regularizer': None, 'kernel_constraint': {'class_name': 'Clip', 'config': {'min_value': -0.023014365, 'max_value': 0.023014365}}, 'bias_constraint': None, 'H': 0.023014365, 'kernel_lr_multiplier': 43.451122, 'bias_lr_multiplier': None}\n",
      "2\n",
      "[1.0211018 1.0191004 1.0277003 ... 1.0021961 1.020906  1.0168811]\n",
      "\n",
      "\n",
      "Layer: \n",
      "{'name': 'bn1', 'trainable': True, 'dtype': 'float32', 'axis': ListWrapper([1]), 'momentum': 0.9, 'epsilon': 1e-06, 'center': True, 'scale': True, 'beta_initializer': {'class_name': 'Zeros', 'config': {}}, 'gamma_initializer': {'class_name': 'Ones', 'config': {}}, 'moving_mean_initializer': {'class_name': 'Zeros', 'config': {}}, 'moving_variance_initializer': {'class_name': 'Ones', 'config': {}}, 'beta_regularizer': None, 'gamma_regularizer': None, 'beta_constraint': None, 'gamma_constraint': None}\n",
      "3\n",
      "[ 0.01743509  0.0292595   0.01815022 ... -0.03169412 -0.03768557\n",
      " -0.02682765]\n",
      "\n",
      "\n",
      "Layer: \n",
      "{'name': 'act1', 'trainable': True, 'dtype': 'float32', 'activation': 'binary_tanh'}\n",
      "4\n",
      "[ 0.09497733 -0.16008182  0.2558037  ...  0.07612659 -0.1281483\n",
      "  0.0849107 ]\n",
      "\n",
      "\n",
      "Layer: \n",
      "{'name': 'drop1', 'trainable': True, 'dtype': 'float32', 'rate': 0.5, 'noise_shape': None, 'seed': None}\n",
      "5\n",
      "[0.07545969 0.05428062 0.06475994 ... 0.06843079 0.07076107 0.05583367]\n",
      "\n",
      "\n",
      "Layer: \n",
      "{'name': 'dense2', 'trainable': True, 'dtype': 'float32', 'units': 2048, 'activation': 'linear', 'use_bias': False, 'kernel_initializer': {'class_name': 'RandomUniform', 'config': {'minval': -0.01913664, 'maxval': 0.01913664, 'seed': None}}, 'bias_initializer': {'class_name': 'Zeros', 'config': {}}, 'kernel_regularizer': None, 'bias_regularizer': None, 'activity_regularizer': None, 'kernel_constraint': {'class_name': 'Clip', 'config': {'min_value': -0.01913664, 'max_value': 0.01913664}}, 'bias_constraint': None, 'H': 0.01913664, 'kernel_lr_multiplier': 52.255783, 'bias_lr_multiplier': None}\n",
      "6\n",
      "[[ 1.22657213e-02  3.32889752e-03 -1.11117940e-02 ... -1.89980660e-02\n",
      "  -1.18216444e-02  1.86758563e-02]\n",
      " [ 1.38151897e-02 -7.50072487e-03 -1.51300402e-02 ... -8.59457941e-05\n",
      "  -9.34183318e-03  1.24933282e-02]\n",
      " [ 2.54919124e-03 -8.54644459e-03  4.21617087e-03 ... -9.55945533e-03\n",
      "  -4.18802592e-05  1.41385943e-02]\n",
      " ...\n",
      " [ 1.54002132e-02  1.19723016e-02  6.83510164e-03 ... -2.78989971e-03\n",
      "  -1.26805250e-02 -8.52562487e-03]\n",
      " [-1.28047224e-02  8.93165171e-03  2.40023481e-03 ...  1.57712307e-02\n",
      "   3.14310961e-03 -3.82544729e-03]\n",
      " [-1.16270653e-03 -3.84482672e-03  1.86840780e-02 ...  1.73803652e-04\n",
      "   1.40837645e-02 -1.73752417e-03]]\n",
      "\n",
      "\n",
      "Layer: \n",
      "{'name': 'bn2', 'trainable': True, 'dtype': 'float32', 'axis': ListWrapper([1]), 'momentum': 0.9, 'epsilon': 1e-06, 'center': True, 'scale': True, 'beta_initializer': {'class_name': 'Zeros', 'config': {}}, 'gamma_initializer': {'class_name': 'Ones', 'config': {}}, 'moving_mean_initializer': {'class_name': 'Zeros', 'config': {}}, 'moving_variance_initializer': {'class_name': 'Ones', 'config': {}}, 'beta_regularizer': None, 'gamma_regularizer': None, 'beta_constraint': None, 'gamma_constraint': None}\n",
      "7\n",
      "[0.97876203 0.9912933  1.0157585  ... 1.0264752  1.0237794  0.9986846 ]\n",
      "\n",
      "\n",
      "Layer: \n",
      "{'name': 'act2', 'trainable': True, 'dtype': 'float32', 'activation': 'binary_tanh'}\n",
      "8\n",
      "[ 0.00314296  0.04079801  0.04275477 ... -0.06193448 -0.00850884\n",
      " -0.03241919]\n",
      "\n",
      "\n",
      "Layer: \n",
      "{'name': 'drop2', 'trainable': True, 'dtype': 'float32', 'rate': 0.5, 'noise_shape': None, 'seed': None}\n",
      "9\n",
      "[-0.01483715 -0.05221307 -0.04809558 ...  0.05289773 -0.12530339\n",
      "  0.07306378]\n",
      "\n",
      "\n",
      "Layer: \n",
      "{'name': 'dense3', 'trainable': True, 'dtype': 'float32', 'units': 2048, 'activation': 'linear', 'use_bias': False, 'kernel_initializer': {'class_name': 'RandomUniform', 'config': {'minval': -0.01913664, 'maxval': 0.01913664, 'seed': None}}, 'bias_initializer': {'class_name': 'Zeros', 'config': {}}, 'kernel_regularizer': None, 'bias_regularizer': None, 'activity_regularizer': None, 'kernel_constraint': {'class_name': 'Clip', 'config': {'min_value': -0.01913664, 'max_value': 0.01913664}}, 'bias_constraint': None, 'H': 0.01913664, 'kernel_lr_multiplier': 52.255783, 'bias_lr_multiplier': None}\n",
      "10\n",
      "[1.680897  1.2259276 2.576866  ... 1.6298051 2.0512393 1.898448 ]\n",
      "\n",
      "\n",
      "Layer: \n",
      "{'name': 'bn3', 'trainable': True, 'dtype': 'float32', 'axis': ListWrapper([1]), 'momentum': 0.9, 'epsilon': 1e-06, 'center': True, 'scale': True, 'beta_initializer': {'class_name': 'Zeros', 'config': {}}, 'gamma_initializer': {'class_name': 'Ones', 'config': {}}, 'moving_mean_initializer': {'class_name': 'Zeros', 'config': {}}, 'moving_variance_initializer': {'class_name': 'Ones', 'config': {}}, 'beta_regularizer': None, 'gamma_regularizer': None, 'beta_constraint': None, 'gamma_constraint': None}\n",
      "11\n",
      "[[-1.72550157e-02 -2.88878917e-03 -1.48354578e-04 ...  9.60496254e-03\n",
      "  -1.27633065e-02 -1.43674770e-02]\n",
      " [ 8.41776468e-03  1.18746031e-02  1.49509148e-03 ... -3.30556626e-03\n",
      "  -1.53164212e-02  9.17983765e-04]\n",
      " [ 1.34794824e-02  1.45029249e-02  1.43259307e-02 ...  4.25348245e-03\n",
      "   2.00715638e-03 -1.82461541e-03]\n",
      " ...\n",
      " [-7.99532700e-03 -1.33328363e-02 -5.81727969e-03 ...  1.87856313e-02\n",
      "  -8.73818435e-03 -1.49223097e-02]\n",
      " [-1.83577053e-02 -3.82212689e-03  7.04139937e-03 ...  4.58401570e-04\n",
      "  -1.33778024e-02 -6.49974076e-03]\n",
      " [ 5.36207343e-03 -7.68516329e-05 -1.32961469e-02 ...  5.91829792e-03\n",
      "  -1.87711474e-02  1.87600441e-02]]\n",
      "\n",
      "\n",
      "Layer: \n",
      "{'name': 'act3', 'trainable': True, 'dtype': 'float32', 'activation': 'binary_tanh'}\n",
      "12\n",
      "[1.0603198 1.0499653 1.0963933 ... 1.1382495 1.096952  1.0937738]\n",
      "\n",
      "\n",
      "Layer: \n",
      "{'name': 'drop3', 'trainable': True, 'dtype': 'float32', 'rate': 0.5, 'noise_shape': None, 'seed': None}\n",
      "13\n",
      "[-0.02783931  0.07973176  0.02606302 ... -0.0821735   0.00731795\n",
      "  0.03075163]\n",
      "\n",
      "\n",
      "Layer: \n",
      "{'name': 'dense', 'trainable': True, 'dtype': 'float32', 'units': 10, 'activation': 'linear', 'use_bias': False, 'kernel_initializer': {'class_name': 'RandomUniform', 'config': {'minval': -0.026997462, 'maxval': 0.026997462, 'seed': None}}, 'bias_initializer': {'class_name': 'Zeros', 'config': {}}, 'kernel_regularizer': None, 'bias_regularizer': None, 'activity_regularizer': None, 'kernel_constraint': {'class_name': 'Clip', 'config': {'min_value': -0.026997462, 'max_value': 0.026997462}}, 'bias_constraint': None, 'H': 0.026997462, 'kernel_lr_multiplier': 37.04052, 'bias_lr_multiplier': None}\n",
      "14\n",
      "[-0.09998389 -0.04522263 -0.0407627  ...  0.06973758 -0.05193951\n",
      " -0.03287673]\n",
      "\n",
      "\n",
      "Layer: \n",
      "{'name': 'bn', 'trainable': True, 'dtype': 'float32', 'axis': ListWrapper([1]), 'momentum': 0.9, 'epsilon': 1e-06, 'center': True, 'scale': True, 'beta_initializer': {'class_name': 'Zeros', 'config': {}}, 'gamma_initializer': {'class_name': 'Ones', 'config': {}}, 'moving_mean_initializer': {'class_name': 'Zeros', 'config': {}}, 'moving_variance_initializer': {'class_name': 'Ones', 'config': {}}, 'beta_regularizer': None, 'gamma_regularizer': None, 'beta_constraint': None, 'gamma_constraint': None}\n",
      "15\n",
      "[3.9333818 3.0775747 3.8468494 ... 4.189977  4.1156945 2.970373 ]\n",
      "\n",
      "\n",
      "Layer: \n"
     ]
    },
    {
     "ename": "IndexError",
     "evalue": "list index out of range",
     "output_type": "error",
     "traceback": [
      "\u001b[0;31m---------------------------------------------------------------------------\u001b[0m",
      "\u001b[0;31mIndexError\u001b[0m                                Traceback (most recent call last)",
      "Cell \u001b[0;32mIn[16], line 4\u001b[0m\n\u001b[1;32m      2\u001b[0m weights \u001b[38;5;241m=\u001b[39m model\u001b[38;5;241m.\u001b[39mget_weights()[i] \u001b[38;5;66;03m# returs a numpy list of weights\u001b[39;00m\n\u001b[1;32m      3\u001b[0m \u001b[38;5;28mprint\u001b[39m(\u001b[38;5;124m\"\u001b[39m\u001b[38;5;124mLayer: \u001b[39m\u001b[38;5;124m\"\u001b[39m )\n\u001b[0;32m----> 4\u001b[0m laytype \u001b[38;5;241m=\u001b[39m \u001b[43mmodel\u001b[49m\u001b[38;5;241;43m.\u001b[39;49m\u001b[43mlayers\u001b[49m\u001b[43m[\u001b[49m\u001b[43mi\u001b[49m\u001b[43m]\u001b[49m\u001b[38;5;241m.\u001b[39mget_config()\n\u001b[1;32m      5\u001b[0m \u001b[38;5;28mprint\u001b[39m(laytype)\n\u001b[1;32m      6\u001b[0m \u001b[38;5;28mprint\u001b[39m(i\u001b[38;5;241m+\u001b[39m\u001b[38;5;241m1\u001b[39m)\n",
      "\u001b[0;31mIndexError\u001b[0m: list index out of range"
     ]
    }
   ],
   "source": [
    "\n",
    "for i in range(0, 20):\n",
    "    weights = model.get_weights()[i] # returs a numpy list of weights\n",
    "    print(\"Layer: \" )\n",
    "    laytype = model.layers[i].get_config()\n",
    "    print(laytype)\n",
    "    print(i+1)\n",
    "    print(weights)\n",
    "    print('\\n')\n",
    "    \n"
   ]
  },
  {
   "cell_type": "code",
   "execution_count": null,
   "id": "a7d92577",
   "metadata": {},
   "outputs": [],
   "source": [
    "def show(img)"
   ]
  },
  {
   "cell_type": "code",
   "execution_count": null,
   "id": "3eed05f8",
   "metadata": {},
   "outputs": [],
   "source": []
  },
  {
   "cell_type": "code",
   "execution_count": null,
   "id": "edfa2a96",
   "metadata": {},
   "outputs": [],
   "source": []
  },
  {
   "cell_type": "code",
   "execution_count": null,
   "id": "062a8b1f",
   "metadata": {},
   "outputs": [],
   "source": []
  },
  {
   "cell_type": "code",
   "execution_count": null,
   "id": "bc17a13f",
   "metadata": {},
   "outputs": [],
   "source": []
  }
 ],
 "metadata": {
  "kernelspec": {
   "display_name": "Python [conda env:robust] *",
   "language": "python",
   "name": "conda-env-robust-py"
  },
  "language_info": {
   "codemirror_mode": {
    "name": "ipython",
    "version": 3
   },
   "file_extension": ".py",
   "mimetype": "text/x-python",
   "name": "python",
   "nbconvert_exporter": "python",
   "pygments_lexer": "ipython3",
   "version": "3.10.4"
  }
 },
 "nbformat": 4,
 "nbformat_minor": 5
}
